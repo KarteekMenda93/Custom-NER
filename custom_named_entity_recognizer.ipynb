{
  "nbformat": 4,
  "nbformat_minor": 0,
  "metadata": {
    "colab": {
      "name": "custom named entity recognizer.ipynb",
      "provenance": [],
      "collapsed_sections": []
    },
    "kernelspec": {
      "name": "python3",
      "display_name": "Python 3"
    },
    "accelerator": "GPU"
  },
  "cells": [
    {
      "cell_type": "markdown",
      "metadata": {
        "id": "mUEAiG7ad7rH"
      },
      "source": [
        "# seeks to locate in classified entities within the given corpus. it can be locationsn names anything. etcc\n",
        "\n",
        "There are some pre defined entities in the model actually, but there will be a situation where we needs to train our own entity asper the domain."
      ]
    },
    {
      "cell_type": "code",
      "metadata": {
        "id": "aJV2gFncdpjC"
      },
      "source": [
        "import spacy"
      ],
      "execution_count": null,
      "outputs": []
    },
    {
      "cell_type": "code",
      "metadata": {
        "id": "Sz6RVfLWeZ93",
        "outputId": "5ea99de6-2727-4d8f-8330-bf1651fe62c5",
        "colab": {
          "base_uri": "https://localhost:8080/",
          "height": 34
        }
      },
      "source": [
        "nlp = spacy.load('en_core_web_sm')\n",
        "nlp.pipe_names"
      ],
      "execution_count": null,
      "outputs": [
        {
          "output_type": "execute_result",
          "data": {
            "text/plain": [
              "['tagger', 'parser', 'ner']"
            ]
          },
          "metadata": {
            "tags": []
          },
          "execution_count": 3
        }
      ]
    },
    {
      "cell_type": "markdown",
      "metadata": {
        "id": "RGKZD9xKfN2l"
      },
      "source": [
        "tagger parser and named entity recogniser"
      ]
    },
    {
      "cell_type": "markdown",
      "metadata": {
        "id": "iswZXTvaf3D6"
      },
      "source": [
        "# lets look at the example"
      ]
    },
    {
      "cell_type": "code",
      "metadata": {
        "id": "f5kVMzpDeaQu"
      },
      "source": [
        "doc = nlp(\"Australia wants to force Facebook and Google to pay media companies for news\")"
      ],
      "execution_count": null,
      "outputs": []
    },
    {
      "cell_type": "code",
      "metadata": {
        "id": "v_ovv3kheaTP",
        "outputId": "c80bb854-c962-4ebb-b802-996c9ebc4b3b",
        "colab": {
          "base_uri": "https://localhost:8080/",
          "height": 50
        }
      },
      "source": [
        "for ent in doc.ents:\n",
        "  print(ent.text, ent.start_char, ent.end_char, ent.label_)"
      ],
      "execution_count": null,
      "outputs": [
        {
          "output_type": "stream",
          "text": [
            "Australia 0 9 GPE\n",
            "Facebook and Google 25 44 ORG\n"
          ],
          "name": "stdout"
        }
      ]
    },
    {
      "cell_type": "markdown",
      "metadata": {
        "id": "WG_JtN27gGvD"
      },
      "source": [
        "It is ok now, but what if we want some of our custom named entities to be also identified as entities especially in financial and banking domains."
      ]
    },
    {
      "cell_type": "code",
      "metadata": {
        "id": "geqPs1lbeaXf"
      },
      "source": [
        "doc = nlp(\"I do not have money to pay my credit card account\")"
      ],
      "execution_count": null,
      "outputs": []
    },
    {
      "cell_type": "code",
      "metadata": {
        "id": "y82-zInceaZy"
      },
      "source": [
        "for ent in doc.ents:\n",
        "  print(ent.text, ent.start_char, ent.end_char, ent.label_)"
      ],
      "execution_count": null,
      "outputs": []
    },
    {
      "cell_type": "markdown",
      "metadata": {
        "id": "bbv1uuB4grvK"
      },
      "source": [
        "# no entity in this statement "
      ]
    },
    {
      "cell_type": "code",
      "metadata": {
        "id": "-r0zXkSveacG"
      },
      "source": [
        "doc = nlp(\"what is the process to open a new savings account\")"
      ],
      "execution_count": null,
      "outputs": []
    },
    {
      "cell_type": "code",
      "metadata": {
        "id": "YAeWwFLKeaeD"
      },
      "source": [
        "for ent in doc.ents:\n",
        "  print(ent.text, ent.start_char, ent.end_char, ent.label_)"
      ],
      "execution_count": null,
      "outputs": []
    },
    {
      "cell_type": "markdown",
      "metadata": {
        "id": "9Nzv5kzKhYmU"
      },
      "source": [
        "again no entity in this text as well.\n",
        "\n",
        "here saving account and credit card is a product the bank have and payment and open is an activity.\n",
        "\n",
        "So, need to train for this custome elements"
      ]
    },
    {
      "cell_type": "markdown",
      "metadata": {
        "id": "ZPyEKDijh6Ia"
      },
      "source": [
        "so, i am going to train a model for all this to be sorted out."
      ]
    },
    {
      "cell_type": "code",
      "metadata": {
        "id": "lDqA_FDAhuoe"
      },
      "source": [
        "train = [\n",
        "         (\"Money transfer from my checking account is not working\", {\"entities\": [(6, 13, \"Activity\"), (23, 39, 'Product')]}),\n",
        "         (\" I want to check balance in my savings account\", {\"entities\": [(16, 23, \"Activity\"), (30, 45, 'Product')]}),\n",
        "         (\"I suspect a fraud in my credit card account\", {\"entities\": [(12, 17, \"Activity\"), (24, 35, 'Product')]}),\n",
        "         (\"I am here for opening a new savings account\", {\"entities\": [(14, 21, \"Activity\"), (28, 43, 'Product')]}),\n",
        "         (\"Your credit card is in past due status\", {\"entities\": [(23, 31, \"Activity\"), (5, 16, 'Product')]})\n",
        "]"
      ],
      "execution_count": null,
      "outputs": []
    },
    {
      "cell_type": "code",
      "metadata": {
        "id": "75NxswpPjrdQ",
        "outputId": "06b20771-4f7b-447b-8b8b-111b96a1fbfa",
        "colab": {
          "base_uri": "https://localhost:8080/",
          "height": 34
        }
      },
      "source": [
        "nlp.pipe_names"
      ],
      "execution_count": null,
      "outputs": [
        {
          "output_type": "execute_result",
          "data": {
            "text/plain": [
              "['tagger', 'parser', 'ner']"
            ]
          },
          "metadata": {
            "tags": []
          },
          "execution_count": 13
        }
      ]
    },
    {
      "cell_type": "code",
      "metadata": {
        "id": "a-FQervwjrfv"
      },
      "source": [
        "ner = nlp.get_pipe(\"ner\")"
      ],
      "execution_count": null,
      "outputs": []
    },
    {
      "cell_type": "code",
      "metadata": {
        "id": "cf_uj09Sjrh9"
      },
      "source": [
        "for _,annotations in train:\n",
        "  for ent in annotations.get(\"entities\"):\n",
        "    ner.add_label(ent[2])"
      ],
      "execution_count": null,
      "outputs": []
    },
    {
      "cell_type": "markdown",
      "metadata": {
        "id": "0uMPgc32kV2J"
      },
      "source": [
        "now we need t add these custome made to the ner "
      ]
    },
    {
      "cell_type": "code",
      "metadata": {
        "id": "GVpPCHZwjrkU"
      },
      "source": [
        "# disabling all the pipelines, if the pipeline not equal to ner,assign it to the disable pipes\n",
        "\n",
        "disable_pipes = [pipe for pipe in nlp.pipe_names if pipe!='ner']"
      ],
      "execution_count": null,
      "outputs": []
    },
    {
      "cell_type": "code",
      "metadata": {
        "id": "lLht8boIjrmg",
        "outputId": "cc61d5a6-bbe9-41ba-d3ad-fa8f73dbc3f7",
        "colab": {
          "base_uri": "https://localhost:8080/",
          "height": 1000
        }
      },
      "source": [
        "import random\n",
        "from spacy.util import minibatch, compounding\n",
        "from pathlib import Path\n",
        "\n",
        "with nlp.disable_pipes(*disable_pipes):\n",
        "  optimizer = nlp.resume_training()\n",
        "\n",
        "  for iteration in range(100):\n",
        "\n",
        "    random.shuffle(train)\n",
        "    losses = {}\n",
        "\n",
        "    batches = minibatch(train, size=compounding(1.0, 4.0, 1.001))\n",
        "    for batch in batches:\n",
        "      text, annotation = zip(*batch)\n",
        "      nlp.update(\n",
        "          text, annotation, drop = 0.5, losses = losses, sgd = optimizer \n",
        "      )\n",
        "      print(\"Losses\", losses)"
      ],
      "execution_count": null,
      "outputs": [
        {
          "output_type": "stream",
          "text": [
            "Losses {'ner': 7.82286264589134}\n",
            "Losses {'ner': 18.09132142951799}\n",
            "Losses {'ner': 23.713039688515124}\n",
            "Losses {'ner': 32.10974466203608}\n",
            "Losses {'ner': 39.18176854546159}\n",
            "Losses {'ner': 7.403922836488846}\n",
            "Losses {'ner': 14.53615510176894}\n",
            "Losses {'ner': 23.311481552328544}\n",
            "Losses {'ner': 31.93050105323978}\n",
            "Losses {'ner': 39.60926009920554}\n",
            "Losses {'ner': 10.238402935621707}\n",
            "Losses {'ner': 19.09171195293044}\n",
            "Losses {'ner': 28.96287579499969}\n",
            "Losses {'ner': 36.42088160173271}\n",
            "Losses {'ner': 47.99666831151817}\n",
            "Losses {'ner': 5.0047439646123895}\n",
            "Losses {'ner': 13.946703018637814}\n",
            "Losses {'ner': 21.608711870248648}\n",
            "Losses {'ner': 26.41083100524869}\n",
            "Losses {'ner': 33.859423639604614}\n",
            "Losses {'ner': 10.28347950170064}\n",
            "Losses {'ner': 16.615366558097094}\n",
            "Losses {'ner': 24.22988012677365}\n",
            "Losses {'ner': 30.728826582080956}\n",
            "Losses {'ner': 42.88865846360409}\n",
            "Losses {'ner': 8.599374008830637}\n",
            "Losses {'ner': 14.169407587483875}\n",
            "Losses {'ner': 23.535164995319747}\n",
            "Losses {'ner': 33.20888229293337}\n",
            "Losses {'ner': 40.089351722023366}\n",
            "Losses {'ner': 8.218804402790653}\n",
            "Losses {'ner': 15.977766265040145}\n",
            "Losses {'ner': 22.761189197316128}\n",
            "Losses {'ner': 32.19727245451446}\n",
            "Losses {'ner': 38.06528175890213}\n",
            "Losses {'ner': 5.193143630112161}\n",
            "Losses {'ner': 10.572809978121938}\n",
            "Losses {'ner': 21.219678312040912}\n",
            "Losses {'ner': 29.382308773779357}\n",
            "Losses {'ner': 34.14845737246941}\n",
            "Losses {'ner': 4.500754986307584}\n",
            "Losses {'ner': 16.35478619148489}\n",
            "Losses {'ner': 24.043569054600084}\n",
            "Losses {'ner': 30.36622725406778}\n",
            "Losses {'ner': 41.71975120858406}\n",
            "Losses {'ner': 7.240953393280506}\n",
            "Losses {'ner': 12.43338485644199}\n",
            "Losses {'ner': 21.570161923998967}\n",
            "Losses {'ner': 29.859694613085594}\n",
            "Losses {'ner': 37.092277500167256}\n",
            "Losses {'ner': 9.624422997236252}\n",
            "Losses {'ner': 16.039810053422116}\n",
            "Losses {'ner': 24.52516543061938}\n",
            "Losses {'ner': 34.62426566274371}\n",
            "Losses {'ner': 44.71715565712657}\n",
            "Losses {'ner': 6.688275141641498}\n",
            "Losses {'ner': 16.864017261192203}\n",
            "Losses {'ner': 24.97704378142953}\n",
            "Losses {'ner': 27.765900371596217}\n",
            "Losses {'ner': 33.358879156876355}\n",
            "Losses {'ner': 9.384032391011715}\n",
            "Losses {'ner': 17.81198287755251}\n",
            "Losses {'ner': 28.51466005295515}\n",
            "Losses {'ner': 35.59580921381712}\n",
            "Losses {'ner': 41.19066442535791}\n",
            "Losses {'ner': 10.205887003801763}\n",
            "Losses {'ner': 18.787430494092405}\n",
            "Losses {'ner': 23.25702455174178}\n",
            "Losses {'ner': 30.931970982812345}\n",
            "Losses {'ner': 38.19716954883188}\n",
            "Losses {'ner': 7.504554584622383}\n",
            "Losses {'ner': 15.577249988913536}\n",
            "Losses {'ner': 23.5640320032835}\n",
            "Losses {'ner': 30.786769822239876}\n",
            "Losses {'ner': 38.61021964251995}\n",
            "Losses {'ner': 9.016458436846733}\n",
            "Losses {'ner': 17.49460954219103}\n",
            "Losses {'ner': 27.31842578202486}\n",
            "Losses {'ner': 32.1993029601872}\n",
            "Losses {'ner': 39.452030174434185}\n",
            "Losses {'ner': 5.005757989031541}\n",
            "Losses {'ner': 9.857034941804873}\n",
            "Losses {'ner': 17.06607463922845}\n",
            "Losses {'ner': 25.19193376567708}\n",
            "Losses {'ner': 34.43155023422585}\n",
            "Losses {'ner': 6.2812632895074785}\n",
            "Losses {'ner': 12.462673810776323}\n",
            "Losses {'ner': 20.69642468681559}\n",
            "Losses {'ner': 31.018779778387398}\n",
            "Losses {'ner': 41.36919184913859}\n",
            "Losses {'ner': 2.80122982384637}\n",
            "Losses {'ner': 11.133249778766185}\n",
            "Losses {'ner': 20.02933544339612}\n",
            "Losses {'ner': 27.25575852813199}\n",
            "Losses {'ner': 33.90000867517665}\n",
            "Losses {'ner': 8.039637554436922}\n",
            "Losses {'ner': 17.085759434849024}\n",
            "Losses {'ner': 24.189070306252688}\n",
            "Losses {'ner': 31.81976351281628}\n",
            "Losses {'ner': 38.34496379038319}\n",
            "Losses {'ner': 6.088357474654913}\n",
            "Losses {'ner': 11.113429110497236}\n",
            "Losses {'ner': 16.92990802973509}\n",
            "Losses {'ner': 25.31037736684084}\n",
            "Losses {'ner': 33.66969732940197}\n",
            "Losses {'ner': 9.690192710608244}\n",
            "Losses {'ner': 17.59346213005483}\n",
            "Losses {'ner': 28.29022150300443}\n",
            "Losses {'ner': 33.51029750145972}\n",
            "Losses {'ner': 40.7902437094599}\n",
            "Losses {'ner': 5.956667427904904}\n",
            "Losses {'ner': 11.927336384542286}\n",
            "Losses {'ner': 20.316894455929287}\n",
            "Losses {'ner': 29.437308578868397}\n",
            "Losses {'ner': 35.141545060207136}\n",
            "Losses {'ner': 7.140086010098457}\n",
            "Losses {'ner': 14.97958593070507}\n",
            "Losses {'ner': 24.422013744711876}\n",
            "Losses {'ner': 30.54127753712237}\n",
            "Losses {'ner': 38.375708708539605}\n",
            "Losses {'ner': 7.130825502797961}\n",
            "Losses {'ner': 15.972281131893396}\n",
            "Losses {'ner': 20.846151039004326}\n",
            "Losses {'ner': 28.13547881320119}\n",
            "Losses {'ner': 38.37800915911794}\n",
            "Losses {'ner': 9.092234328389168}\n",
            "Losses {'ner': 14.504253515973687}\n",
            "Losses {'ner': 21.593507105484605}\n",
            "Losses {'ner': 29.447620587423444}\n",
            "Losses {'ner': 36.35794465430081}\n",
            "Losses {'ner': 5.532515957951546}\n",
            "Losses {'ner': 13.75835356861353}\n",
            "Losses {'ner': 19.53609397262335}\n",
            "Losses {'ner': 26.58788613975048}\n",
            "Losses {'ner': 30.410669862292707}\n",
            "Losses {'ner': 7.18461337685585}\n",
            "Losses {'ner': 15.777256935834885}\n",
            "Losses {'ner': 22.527767164632678}\n",
            "Losses {'ner': 28.426807390525937}\n",
            "Losses {'ner': 31.545596230775118}\n",
            "Losses {'ner': 6.456465631723404}\n",
            "Losses {'ner': 15.077372759580612}\n",
            "Losses {'ner': 24.50312379002571}\n",
            "Losses {'ner': 32.199983924627304}\n",
            "Losses {'ner': 38.982711523771286}\n",
            "Losses {'ner': 4.3141612112522125}\n",
            "Losses {'ner': 10.176368514075875}\n",
            "Losses {'ner': 15.770752875134349}\n",
            "Losses {'ner': 22.649107633158565}\n",
            "Losses {'ner': 31.630271134898067}\n",
            "Losses {'ner': 5.687370277009904}\n",
            "Losses {'ner': 8.59988053428242}\n",
            "Losses {'ner': 15.77199605392525}\n",
            "Losses {'ner': 20.891690402349923}\n",
            "Losses {'ner': 28.41211356135318}\n",
            "Losses {'ner': 7.394313979893923}\n",
            "Losses {'ner': 14.331968324724585}\n",
            "Losses {'ner': 21.842052661348134}\n",
            "Losses {'ner': 30.366209709085524}\n",
            "Losses {'ner': 35.790486698038876}\n",
            "Losses {'ner': 7.615954548120499}\n",
            "Losses {'ner': 13.341097302734852}\n",
            "Losses {'ner': 18.808220863807946}\n",
            "Losses {'ner': 23.86571863712743}\n",
            "Losses {'ner': 31.20989713491872}\n",
            "Losses {'ner': 6.548794150352478}\n",
            "Losses {'ner': 10.112174890935421}\n",
            "Losses {'ner': 16.958197498694062}\n",
            "Losses {'ner': 23.081969811115414}\n",
            "Losses {'ner': 31.82602212810889}\n",
            "Losses {'ner': 6.877184249460697}\n",
            "Losses {'ner': 11.864557221531868}\n",
            "Losses {'ner': 17.367683762684464}\n",
            "Losses {'ner': 26.40485635213554}\n",
            "Losses {'ner': 33.54158158786595}\n",
            "Losses {'ner': 5.861515332013369}\n",
            "Losses {'ner': 12.226741045713425}\n",
            "Losses {'ner': 17.728201298974454}\n",
            "Losses {'ner': 23.41997657204047}\n",
            "Losses {'ner': 31.82373452419415}\n",
            "Losses {'ner': 4.314179960871115}\n",
            "Losses {'ner': 11.356234300183132}\n",
            "Losses {'ner': 19.712549762101844}\n",
            "Losses {'ner': 25.540556672262028}\n",
            "Losses {'ner': 29.52738247369416}\n",
            "Losses {'ner': 6.350196274695918}\n",
            "Losses {'ner': 9.57633797894232}\n",
            "Losses {'ner': 14.940576300723478}\n",
            "Losses {'ner': 25.29147605667822}\n",
            "Losses {'ner': 34.94678603182547}\n",
            "Losses {'ner': 8.76419423520565}\n",
            "Losses {'ner': 17.618861585855484}\n",
            "Losses {'ner': 23.426306006964296}\n",
            "Losses {'ner': 31.69116016989574}\n",
            "Losses {'ner': 36.50690261507407}\n",
            "Losses {'ner': 9.574999928474426}\n",
            "Losses {'ner': 17.162074021995068}\n",
            "Losses {'ner': 25.72339355200529}\n",
            "Losses {'ner': 32.5404715128243}\n",
            "Losses {'ner': 41.89189066365361}\n",
            "Losses {'ner': 5.267913468182087}\n",
            "Losses {'ner': 13.879394359886646}\n",
            "Losses {'ner': 21.556878440082073}\n",
            "Losses {'ner': 27.972999246791005}\n",
            "Losses {'ner': 36.388748245313764}\n",
            "Losses {'ner': 7.027972873300314}\n",
            "Losses {'ner': 14.010114820674062}\n",
            "Losses {'ner': 21.257001729682088}\n",
            "Losses {'ner': 29.633815160021186}\n",
            "Losses {'ner': 34.64727680385113}\n",
            "Losses {'ner': 6.431241497397423}\n",
            "Losses {'ner': 12.08614744246006}\n",
            "Losses {'ner': 19.914808437228203}\n",
            "Losses {'ner': 29.46485434472561}\n",
            "Losses {'ner': 37.10303645953536}\n",
            "Losses {'ner': 4.845446296501905}\n",
            "Losses {'ner': 12.280074246693403}\n",
            "Losses {'ner': 18.455196906346828}\n",
            "Losses {'ner': 23.357300591189414}\n",
            "Losses {'ner': 30.375789186451584}\n",
            "Losses {'ner': 7.234001040458679}\n",
            "Losses {'ner': 15.17642742395401}\n",
            "Losses {'ner': 20.454375557601452}\n",
            "Losses {'ner': 29.208218090236187}\n",
            "Losses {'ner': 35.43499317020178}\n",
            "Losses {'ner': 6.31255529820919}\n",
            "Losses {'ner': 15.061641290783882}\n",
            "Losses {'ner': 23.873723581433296}\n",
            "Losses {'ner': 34.770996645092964}\n",
            "Losses {'ner': 38.99857988208532}\n",
            "Losses {'ner': 7.648620128631592}\n",
            "Losses {'ner': 14.991767674684525}\n",
            "Losses {'ner': 22.58334532380104}\n",
            "Losses {'ner': 30.60762898530811}\n",
            "Losses {'ner': 36.58640324044973}\n",
            "Losses {'ner': 6.798012785613537}\n",
            "Losses {'ner': 12.350799042731524}\n",
            "Losses {'ner': 19.184418693184853}\n",
            "Losses {'ner': 25.392010470852256}\n",
            "Losses {'ner': 31.301564913243055}\n",
            "Losses {'ner': 6.246348164975643}\n",
            "Losses {'ner': 11.698982708156109}\n",
            "Losses {'ner': 18.044801482756156}\n",
            "Losses {'ner': 26.843944409687538}\n",
            "Losses {'ner': 32.09867399925133}\n",
            "Losses {'ner': 7.434642229229212}\n",
            "Losses {'ner': 14.258563201874495}\n",
            "Losses {'ner': 23.019135660259053}\n",
            "Losses {'ner': 28.220848913071677}\n",
            "Losses {'ner': 36.364038227824494}\n",
            "Losses {'ner': 8.546899944543839}\n",
            "Losses {'ner': 15.1627262160182}\n",
            "Losses {'ner': 23.885089181363583}\n",
            "Losses {'ner': 30.38535664230585}\n",
            "Losses {'ner': 36.79902595281601}\n",
            "Losses {'ner': 6.891449965303764}\n",
            "Losses {'ner': 13.066587466513738}\n",
            "Losses {'ner': 21.288745451485738}\n",
            "Losses {'ner': 26.21603799588047}\n",
            "Losses {'ner': 32.96000367007218}\n",
            "Losses {'ner': 5.6418362581171095}\n",
            "Losses {'ner': 9.054217527154833}\n",
            "Losses {'ner': 14.220339291263372}\n",
            "Losses {'ner': 17.868742069695145}\n",
            "Losses {'ner': 23.61711837281473}\n",
            "Losses {'ner': 7.08624779805541}\n",
            "Losses {'ner': 15.3261625058949}\n",
            "Losses {'ner': 22.215037314221263}\n",
            "Losses {'ner': 29.05652437917888}\n",
            "Losses {'ner': 34.5374926161021}\n",
            "Losses {'ner': 4.740037737414241}\n",
            "Losses {'ner': 9.19031695195008}\n",
            "Losses {'ner': 14.357394239981659}\n",
            "Losses {'ner': 21.75584691495169}\n",
            "Losses {'ner': 27.00532579526771}\n",
            "Losses {'ner': 4.947599943727255}\n",
            "Losses {'ner': 10.199592004995793}\n",
            "Losses {'ner': 18.844953190069646}\n",
            "Losses {'ner': 27.078753809910268}\n",
            "Losses {'ner': 37.7453235196881}\n",
            "Losses {'ner': 6.371582488092827}\n",
            "Losses {'ner': 12.75550492250477}\n",
            "Losses {'ner': 18.676923641498433}\n",
            "Losses {'ner': 27.629865565832006}\n",
            "Losses {'ner': 35.19587584535475}\n",
            "Losses {'ner': 6.227642511308659}\n",
            "Losses {'ner': 14.793206061658566}\n",
            "Losses {'ner': 22.34318356514268}\n",
            "Losses {'ner': 31.310094046595623}\n",
            "Losses {'ner': 39.18584802556143}\n",
            "Losses {'ner': 4.324855051760096}\n",
            "Losses {'ner': 11.09013234154554}\n",
            "Losses {'ner': 16.569909797723085}\n",
            "Losses {'ner': 20.934248102104903}\n",
            "Losses {'ner': 28.16384147593999}\n",
            "Losses {'ner': 8.412350505590439}\n",
            "Losses {'ner': 14.09044860699214}\n",
            "Losses {'ner': 21.786379400873557}\n",
            "Losses {'ner': 28.454386457800865}\n",
            "Losses {'ner': 33.38013915345073}\n",
            "Losses {'ner': 8.111308354884386}\n",
            "Losses {'ner': 14.131210687337443}\n",
            "Losses {'ner': 19.52442102204077}\n",
            "Losses {'ner': 27.605125770671293}\n",
            "Losses {'ner': 33.8797884339001}\n",
            "Losses {'ner': 7.060602570272749}\n",
            "Losses {'ner': 10.403871302813059}\n",
            "Losses {'ner': 18.14907897482044}\n",
            "Losses {'ner': 24.879381368256873}\n",
            "Losses {'ner': 33.07424162546522}\n",
            "Losses {'ner': 6.282350182533264}\n",
            "Losses {'ner': 15.811196864582598}\n",
            "Losses {'ner': 21.914298896677792}\n",
            "Losses {'ner': 28.757144276984036}\n",
            "Losses {'ner': 36.103321506641805}\n",
            "Losses {'ner': 7.108657941222191}\n",
            "Losses {'ner': 12.988816853612661}\n",
            "Losses {'ner': 16.86270864168182}\n",
            "Losses {'ner': 23.055866642389446}\n",
            "Losses {'ner': 29.24324126029387}\n",
            "Losses {'ner': 9.268273949623108}\n",
            "Losses {'ner': 15.800234464928508}\n",
            "Losses {'ner': 22.630694625899196}\n",
            "Losses {'ner': 30.861504155676812}\n",
            "Losses {'ner': 38.01596498518484}\n",
            "Losses {'ner': 8.430536042898893}\n",
            "Losses {'ner': 12.171601571142673}\n",
            "Losses {'ner': 17.713231320492923}\n",
            "Losses {'ner': 24.01647179108113}\n",
            "Losses {'ner': 30.869156195782125}\n",
            "Losses {'ner': 7.2445703111588955}\n",
            "Losses {'ner': 15.244644563645124}\n",
            "Losses {'ner': 22.148618068546057}\n",
            "Losses {'ner': 29.345877437846866}\n",
            "Losses {'ner': 37.374821565108505}\n",
            "Losses {'ner': 4.682772484084126}\n",
            "Losses {'ner': 12.634649899264332}\n",
            "Losses {'ner': 17.522105940559413}\n",
            "Losses {'ner': 23.15015707938437}\n",
            "Losses {'ner': 29.933726806477353}\n",
            "Losses {'ner': 9.1838398873806}\n",
            "Losses {'ner': 16.882709987461567}\n",
            "Losses {'ner': 21.503733289195225}\n",
            "Losses {'ner': 26.68555451883003}\n",
            "Losses {'ner': 30.032223469461314}\n",
            "Losses {'ner': 5.578553769271821}\n",
            "Losses {'ner': 12.434644568245858}\n",
            "Losses {'ner': 19.433251488488168}\n",
            "Losses {'ner': 22.243961725966074}\n",
            "Losses {'ner': 29.736320976749994}\n",
            "Losses {'ner': 7.938606888055801}\n",
            "Losses {'ner': 12.364293783903122}\n",
            "Losses {'ner': 18.814061091281474}\n",
            "Losses {'ner': 23.30892429931555}\n",
            "Losses {'ner': 24.99510333166654}\n",
            "Losses {'ner': 5.044483144767582}\n",
            "Losses {'ner': 11.211375433078501}\n",
            "Losses {'ner': 19.375107186904643}\n",
            "Losses {'ner': 27.620182472339366}\n",
            "Losses {'ner': 33.93775537383044}\n",
            "Losses {'ner': 1.7446734297191142}\n",
            "Losses {'ner': 12.100308059445524}\n",
            "Losses {'ner': 14.256118380646512}\n",
            "Losses {'ner': 22.127641805163876}\n",
            "Losses {'ner': 29.161871053926006}\n",
            "Losses {'ner': 9.241479933261871}\n",
            "Losses {'ner': 17.48442478524521}\n",
            "Losses {'ner': 21.93336872488726}\n",
            "Losses {'ner': 29.582692869880702}\n",
            "Losses {'ner': 34.870691294723656}\n",
            "Losses {'ner': 5.445873570512049}\n",
            "Losses {'ner': 13.68514076329302}\n",
            "Losses {'ner': 19.13767883888613}\n",
            "Losses {'ner': 22.4973848601785}\n",
            "Losses {'ner': 29.935371934434443}\n",
            "Losses {'ner': 8.210254323668778}\n",
            "Losses {'ner': 13.98519729997497}\n",
            "Losses {'ner': 20.086825217003934}\n",
            "Losses {'ner': 25.739795673493063}\n",
            "Losses {'ner': 32.088172267976915}\n",
            "Losses {'ner': 3.9053741516545415}\n",
            "Losses {'ner': 12.123988849110901}\n",
            "Losses {'ner': 18.737963321385905}\n",
            "Losses {'ner': 23.715837220406684}\n",
            "Losses {'ner': 29.71363885509345}\n",
            "Losses {'ner': 7.976793572306633}\n",
            "Losses {'ner': 14.449495643377304}\n",
            "Losses {'ner': 23.724663883447647}\n",
            "Losses {'ner': 28.354045946027327}\n",
            "Losses {'ner': 33.81010779004282}\n",
            "Losses {'ner': 7.475277543067932}\n",
            "Losses {'ner': 13.064291689544916}\n",
            "Losses {'ner': 21.83437165990472}\n",
            "Losses {'ner': 25.724679256323725}\n",
            "Losses {'ner': 35.01399042690173}\n",
            "Losses {'ner': 5.111284059938043}\n",
            "Losses {'ner': 11.335719699622132}\n",
            "Losses {'ner': 17.94040784961544}\n",
            "Losses {'ner': 24.416603050893173}\n",
            "Losses {'ner': 29.841476344969124}\n",
            "Losses {'ner': 7.060221992433071}\n",
            "Losses {'ner': 13.689001673832536}\n",
            "Losses {'ner': 20.693190090358257}\n",
            "Losses {'ner': 27.00432477891445}\n",
            "Losses {'ner': 34.8634189167351}\n",
            "Losses {'ner': 8.951458036899567}\n",
            "Losses {'ner': 16.90046352148056}\n",
            "Losses {'ner': 25.950564682483673}\n",
            "Losses {'ner': 33.61794230528176}\n",
            "Losses {'ner': 41.05151282995939}\n",
            "Losses {'ner': 8.370947480201721}\n",
            "Losses {'ner': 16.21192553639412}\n",
            "Losses {'ner': 23.039840534329414}\n",
            "Losses {'ner': 29.020410822238773}\n",
            "Losses {'ner': 36.33405546983704}\n",
            "Losses {'ner': 7.89825376868248}\n",
            "Losses {'ner': 15.198366552591324}\n",
            "Losses {'ner': 21.2560826074332}\n",
            "Losses {'ner': 27.280948853120208}\n",
            "Losses {'ner': 34.58232626877725}\n",
            "Losses {'ner': 6.623444445896894}\n",
            "Losses {'ner': 12.7935894401744}\n",
            "Losses {'ner': 17.821231701411307}\n",
            "Losses {'ner': 27.24520716909319}\n",
            "Losses {'ner': 33.54249601904303}\n",
            "Losses {'ner': 5.372801441699266}\n",
            "Losses {'ner': 8.49237625207752}\n",
            "Losses {'ner': 17.32550723757595}\n",
            "Losses {'ner': 25.01821698155254}\n",
            "Losses {'ner': 31.66426798608154}\n",
            "Losses {'ner': 8.21546958386898}\n",
            "Losses {'ner': 15.374122980982065}\n",
            "Losses {'ner': 23.657981673721224}\n",
            "Losses {'ner': 30.265706376521848}\n",
            "Losses {'ner': 37.7147158695152}\n",
            "Losses {'ner': 6.701031358912587}\n",
            "Losses {'ner': 14.128388481214643}\n",
            "Losses {'ner': 19.75550645776093}\n",
            "Losses {'ner': 25.78028490964789}\n",
            "Losses {'ner': 31.9794777558418}\n",
            "Losses {'ner': 5.405541881918907}\n",
            "Losses {'ner': 7.855681357497815}\n",
            "Losses {'ner': 16.145253000373486}\n",
            "Losses {'ner': 23.076152672583703}\n",
            "Losses {'ner': 31.645333406573627}\n",
            "Losses {'ner': 7.756194130517542}\n",
            "Losses {'ner': 15.323921308852732}\n",
            "Losses {'ner': 20.06472692731768}\n",
            "Losses {'ner': 27.125084288883954}\n",
            "Losses {'ner': 31.956384347286075}\n",
            "Losses {'ner': 6.284927345812321}\n",
            "Losses {'ner': 11.66573327218066}\n",
            "Losses {'ner': 18.887359624699457}\n",
            "Losses {'ner': 24.514464644686086}\n",
            "Losses {'ner': 33.5547168533958}\n",
            "Losses {'ner': 2.9123412620683666}\n",
            "Losses {'ner': 12.078683617844945}\n",
            "Losses {'ner': 18.926480803027516}\n",
            "Losses {'ner': 27.722843381896382}\n",
            "Losses {'ner': 31.228912102000322}\n",
            "Losses {'ner': 3.3362696663243696}\n",
            "Losses {'ner': 9.141714393044822}\n",
            "Losses {'ner': 14.080161209101789}\n",
            "Losses {'ner': 19.269773702020757}\n",
            "Losses {'ner': 28.784754375810735}\n",
            "Losses {'ner': 9.36258465051651}\n",
            "Losses {'ner': 16.737469106912613}\n",
            "Losses {'ner': 23.17562047764659}\n",
            "Losses {'ner': 28.644935803022236}\n",
            "Losses {'ner': 34.72716796025634}\n",
            "Losses {'ner': 6.259946778416634}\n",
            "Losses {'ner': 14.232425758615136}\n",
            "Losses {'ner': 21.17238787165843}\n",
            "Losses {'ner': 27.364191692089662}\n",
            "Losses {'ner': 33.54938913858496}\n",
            "Losses {'ner': 7.474390625953674}\n",
            "Losses {'ner': 13.078464559686836}\n",
            "Losses {'ner': 18.799262927077507}\n",
            "Losses {'ner': 25.09533541014025}\n",
            "Losses {'ner': 32.60982208063433}\n",
            "Losses {'ner': 7.259615031303838}\n",
            "Losses {'ner': 13.40223125857301}\n",
            "Losses {'ner': 20.92321187001653}\n",
            "Losses {'ner': 29.151336965383962}\n",
            "Losses {'ner': 33.7936416764278}\n",
            "Losses {'ner': 5.723416404798627}\n",
            "Losses {'ner': 10.680008130148053}\n",
            "Losses {'ner': 15.758590390294557}\n",
            "Losses {'ner': 24.546553512423998}\n",
            "Losses {'ner': 30.131339573534206}\n",
            "Losses {'ner': 6.328018484637141}\n",
            "Losses {'ner': 14.1902831424959}\n",
            "Losses {'ner': 20.99947662698105}\n",
            "Losses {'ner': 25.645919013302773}\n",
            "Losses {'ner': 32.16574737732299}\n",
            "Losses {'ner': 6.90832607448101}\n",
            "Losses {'ner': 14.46270068083686}\n",
            "Losses {'ner': 23.040332799551834}\n",
            "Losses {'ner': 28.52903200174478}\n",
            "Losses {'ner': 35.55033405638096}\n"
          ],
          "name": "stdout"
        }
      ]
    },
    {
      "cell_type": "code",
      "metadata": {
        "id": "36s2cx24jrob",
        "outputId": "9526c4b0-907e-4814-f5f1-8437f021470a",
        "colab": {
          "base_uri": "https://localhost:8080/",
          "height": 101
        }
      },
      "source": [
        "for text, _ in train:\n",
        "  doc = nlp(text)\n",
        "  print(\"Entities\", [(ent.text, ent.label_) for ent in doc.ents])"
      ],
      "execution_count": null,
      "outputs": [
        {
          "output_type": "stream",
          "text": [
            "Entities []\n",
            "Entities []\n",
            "Entities []\n",
            "Entities []\n",
            "Entities [('credit card', 'Product'), ('past due', 'Activity')]\n"
          ],
          "name": "stdout"
        }
      ]
    },
    {
      "cell_type": "markdown",
      "metadata": {
        "id": "dI8Eqo9VodWU"
      },
      "source": [
        "feeding more data would definitely do."
      ]
    },
    {
      "cell_type": "code",
      "metadata": {
        "id": "m-8QCaECjrqo",
        "outputId": "8b137904-ff6b-465c-d5b2-d7d386db2df3",
        "colab": {
          "base_uri": "https://localhost:8080/",
          "height": 68
        }
      },
      "source": [
        "from spacy import displacy\n",
        "\n",
        "doc = nlp(\"what is the process to open a new credit card\")\n",
        "\n",
        "for ent in doc.ents:\n",
        "  print(ent.text, ent.start_char, ent.end_char, ent.label_)\n",
        "\n",
        "displacy.render(nlp(doc.text), style = 'ent', jupyter = True)\n"
      ],
      "execution_count": null,
      "outputs": [
        {
          "output_type": "stream",
          "text": [
            "credit card 34 45 Product\n"
          ],
          "name": "stdout"
        },
        {
          "output_type": "display_data",
          "data": {
            "text/html": [
              "<span class=\"tex2jax_ignore\"><div class=\"entities\" style=\"line-height: 2.5; direction: ltr\">what is the process to open a new \n",
              "<mark class=\"entity\" style=\"background: #bfeeb7; padding: 0.45em 0.6em; margin: 0 0.25em; line-height: 1; border-radius: 0.35em;\">\n",
              "    credit card\n",
              "    <span style=\"font-size: 0.8em; font-weight: bold; line-height: 1; border-radius: 0.35em; text-transform: uppercase; vertical-align: middle; margin-left: 0.5rem\">Product</span>\n",
              "</mark>\n",
              "</div></span>"
            ],
            "text/plain": [
              "<IPython.core.display.HTML object>"
            ]
          },
          "metadata": {
            "tags": []
          }
        }
      ]
    },
    {
      "cell_type": "code",
      "metadata": {
        "id": "2LM1nIOLjrs3",
        "outputId": "8311f6ce-b7c4-4813-eb64-581086a1c0e0",
        "colab": {
          "base_uri": "https://localhost:8080/",
          "height": 34
        }
      },
      "source": [
        "doc = nlp(\"My credit card payment will be past due status\")\n",
        "for ent in doc.ents:\n",
        "  print(ent.text, ent.start_char, ent.end_char, ent.label_)"
      ],
      "execution_count": null,
      "outputs": [
        {
          "output_type": "stream",
          "text": [
            "credit card 3 14 Product\n"
          ],
          "name": "stdout"
        }
      ]
    },
    {
      "cell_type": "markdown",
      "metadata": {
        "id": "OdjJfEJVqcM-"
      },
      "source": [
        "It is doing some decent job with the very less data we feeded in."
      ]
    },
    {
      "cell_type": "code",
      "metadata": {
        "id": "yxvbWDgYqROu"
      },
      "source": [
        "doc = nlp(\"Australia wants to force Facebook and Google to pay media companies for news\")\n",
        "for ent in doc.ents:\n",
        "  print(ent.text, ent.start_char, ent.end_char, ent.label_)"
      ],
      "execution_count": null,
      "outputs": []
    },
    {
      "cell_type": "markdown",
      "metadata": {
        "id": "HZuKaQWZrIhR"
      },
      "source": [
        "here comes the check, now it is not recgnisizing the facebbok and google as organizations, this is due to the forgetting of the model. rfere the site \" https://explosion.ai/blog/pseudo-rehearsal-catastrophic-forgetting \""
      ]
    },
    {
      "cell_type": "markdown",
      "metadata": {
        "id": "8LVljvffrhJd"
      },
      "source": [
        "in tis case what we need to do is we need to take the existing data and train it along with the new data. It is a known issue in spacy and other nlp packages.\n",
        "\n",
        "also, we can have two models:\n",
        "one will have empty model with our text \n",
        "and the second will be with existing models and\n",
        "finally combine them and show\n"
      ]
    },
    {
      "cell_type": "code",
      "metadata": {
        "id": "1ce0PZL2qRRE"
      },
      "source": [
        ""
      ],
      "execution_count": null,
      "outputs": []
    },
    {
      "cell_type": "code",
      "metadata": {
        "id": "v91mPVuDsprs"
      },
      "source": [
        ""
      ],
      "execution_count": null,
      "outputs": []
    },
    {
      "cell_type": "code",
      "metadata": {
        "id": "brJYVLfyqRTf"
      },
      "source": [
        ""
      ],
      "execution_count": null,
      "outputs": []
    },
    {
      "cell_type": "code",
      "metadata": {
        "id": "_qlH_ie0qRXn"
      },
      "source": [
        ""
      ],
      "execution_count": null,
      "outputs": []
    },
    {
      "cell_type": "code",
      "metadata": {
        "id": "-4aiw20GqRZ5"
      },
      "source": [
        ""
      ],
      "execution_count": null,
      "outputs": []
    },
    {
      "cell_type": "code",
      "metadata": {
        "id": "ZvdOTiZHqRcK"
      },
      "source": [
        ""
      ],
      "execution_count": null,
      "outputs": []
    }
  ]
}